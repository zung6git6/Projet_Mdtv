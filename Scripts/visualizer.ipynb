{
 "cells": [
  {
   "cell_type": "code",
   "execution_count": 1,
   "metadata": {},
   "outputs": [],
   "source": [
    "from graphviz import Digraph\n",
    "import json\n",
    "from pathlib import Path"
   ]
  },
  {
   "cell_type": "code",
   "execution_count": 2,
   "metadata": {},
   "outputs": [],
   "source": [
    "def visualize_graph(data: dict, output_file: str = \"../results/graph\"):\n",
    "   \"\"\"Generate a graph visualization from the input data.\"\"\"\n",
    "   \n",
    "   dot = Digraph(format=\"png\")\n",
    "   dot.attr(rankdir=\"TB\")\n",
    "\n",
    "   for node in data[\"nodes\"]:\n",
    "       node_id = str(node[\"numero_noeud\"])\n",
    "       label = f'{node[\"type\"]}: {node[\"instruction\"]}'\n",
    "       dot.node(node_id, label)\n",
    "\n",
    "       # Add edges\n",
    "       if \"suivant\" in node and node[\"suivant\"]:\n",
    "           for target_id, condition in node[\"suivant\"]:\n",
    "               dot.edge(node_id, str(target_id), condition)\n",
    "\n",
    "   dot.render(output_file, view=True)"
   ]
  },
  {
   "cell_type": "code",
   "execution_count": 7,
   "metadata": {},
   "outputs": [],
   "source": [
    "JsonToVisualise = \"\"\n",
    "Name2FilePath = {'annule_arg': '../Results/structure_syntaxique_annule_arg.json',\n",
    "                 'multiplicateur': '../Results/structure_syntaxique_multiplicateur.1.json',\n",
    "                 'quotient': '../Results/structure_syntaxique_quotientNParM.1.json'}\n",
    "while JsonToVisualise not in Name2FilePath:\n",
    "      JsonToVisualise = input(\"Choissiez un fichier json à visualiser entre annule_arg, multiplicateur et quotient\")\n",
    "JsonFilePath = Name2FilePath.__getitem__(JsonToVisualise)\n",
    "with open(JsonFilePath, \"r\", encoding=\"utf-8\") as f:\n",
    "      data = json.load(f)\n",
    "      visualize_graph(data, f\"../results/{Path(JsonFilePath).stem}_graphe\")"
   ]
  },
  {
   "cell_type": "code",
   "execution_count": null,
   "metadata": {},
   "outputs": [],
   "source": []
  }
 ],
 "metadata": {
  "kernelspec": {
   "display_name": "tal",
   "language": "python",
   "name": "python3"
  },
  "language_info": {
   "codemirror_mode": {
    "name": "ipython",
    "version": 3
   },
   "file_extension": ".py",
   "mimetype": "text/x-python",
   "name": "python",
   "nbconvert_exporter": "python",
   "pygments_lexer": "ipython3",
   "version": "3.9.19"
  }
 },
 "nbformat": 4,
 "nbformat_minor": 2
}
