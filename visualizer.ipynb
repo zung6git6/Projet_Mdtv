{
 "cells": [
  {
   "cell_type": "code",
   "execution_count": 1,
   "metadata": {},
   "outputs": [],
   "source": [
    "from graphviz import Digraph\n",
    "import json"
   ]
  },
  {
   "cell_type": "code",
   "execution_count": 2,
   "metadata": {},
   "outputs": [],
   "source": [
    "def visualize_graph(structure_syntaxique: list, output_file: str = \"graph\"):\n",
    "    \"\"\"\n",
    "    Génère et visualise un graphe à partir de la structure syntaxique JSON.\n",
    "\n",
    "    Parameters:\n",
    "    - structure_syntaxique : Liste représentant la structure syntaxique.\n",
    "    - output_file : Nom du fichier de sortie pour le graphe (sans extension).\n",
    "    \"\"\"\n",
    "    dot = Digraph(format=\"png\")\n",
    "    dot.attr(rankdir=\"TB\")  # Disposition verticale du graphe\n",
    "\n",
    "    def add_node(node, parent_id=None):\n",
    "        \"\"\"\n",
    "        Ajoute un nœud au graphe et relie les nœuds enfants récursivement.\n",
    "        \n",
    "        Parameters:\n",
    "        - node : Dictionnaire représentant un nœud.\n",
    "        - parent_id : ID du nœud parent, si applicable.\n",
    "        \"\"\"\n",
    "        node_id = str(node[\"numero_noeud\"])\n",
    "        label = f'{node[\"type\"]}: {node[\"instruction\"]}'\n",
    "        dot.node(node_id, label)\n",
    "\n",
    "        # Ajouter une arête depuis le parent\n",
    "        if parent_id is not None:\n",
    "            dot.edge(parent_id, node_id)\n",
    "\n",
    "        # Ajouter les enfants si le nœud a un contenu\n",
    "        if \"contenu\" in node and node[\"contenu\"]:\n",
    "            for child in node[\"contenu\"]:\n",
    "                add_node(child, node_id)\n",
    "\n",
    "    # Ajouter les nœuds principaux\n",
    "    for node in structure_syntaxique:\n",
    "        add_node(node)\n",
    "\n",
    "    # Générer et afficher le graphe\n",
    "    dot.render(output_file, view=True)\n",
    "    print(f\"Graphe généré et sauvegardé dans {output_file}.png\")\n"
   ]
  },
  {
   "cell_type": "code",
   "execution_count": 3,
   "metadata": {},
   "outputs": [
    {
     "name": "stdout",
     "output_type": "stream",
     "text": [
      "Graphe généré et sauvegardé dans graph.png\n"
     ]
    }
   ],
   "source": [
    "# Charger la structure JSON\n",
    "with open(\"structure_syntaxique.json\", \"r\", encoding=\"utf-8\") as f:\n",
    "    structure_syntaxique = json.load(f)\n",
    "    \n",
    "visualize_graph(structure_syntaxique)"
   ]
  },
  {
   "cell_type": "code",
   "execution_count": null,
   "metadata": {},
   "outputs": [],
   "source": []
  }
 ],
 "metadata": {
  "kernelspec": {
   "display_name": "tal",
   "language": "python",
   "name": "python3"
  },
  "language_info": {
   "codemirror_mode": {
    "name": "ipython",
    "version": 3
   },
   "file_extension": ".py",
   "mimetype": "text/x-python",
   "name": "python",
   "nbconvert_exporter": "python",
   "pygments_lexer": "ipython3",
   "version": "3.9.19"
  }
 },
 "nbformat": 4,
 "nbformat_minor": 2
}
