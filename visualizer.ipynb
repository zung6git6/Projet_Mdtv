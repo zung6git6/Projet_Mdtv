{
 "cells": [
  {
   "cell_type": "code",
   "execution_count": 7,
   "metadata": {},
   "outputs": [],
   "source": [
    "from graphviz import Digraph\n",
    "import json"
   ]
  },
  {
   "cell_type": "code",
   "execution_count": 8,
   "metadata": {},
   "outputs": [],
   "source": [
    "def visualize_graph(data: dict, output_file: str = \"graph\"):\n",
    "   \"\"\"Generate a graph visualization from the input data.\"\"\"\n",
    "   \n",
    "   dot = Digraph(format=\"png\")\n",
    "   dot.attr(rankdir=\"TB\")\n",
    "\n",
    "   for node in data[\"nodes\"]:\n",
    "       node_id = str(node[\"numero_noeud\"])\n",
    "       label = f'{node[\"type\"]}: {node[\"instruction\"]}'\n",
    "       dot.node(node_id, label)\n",
    "\n",
    "       # Add edges\n",
    "       if \"suivant\" in node and node[\"suivant\"]:\n",
    "           for target_id, condition in node[\"suivant\"]:\n",
    "               dot.edge(node_id, str(target_id), condition)\n",
    "\n",
    "   dot.render(output_file, view=True)"
   ]
  },
  {
   "cell_type": "code",
   "execution_count": 9,
   "metadata": {},
   "outputs": [],
   "source": [
    "with open(\"structure_syntaxique.json\", \"r\", encoding=\"utf-8\") as f:\n",
    "   data = json.load(f)\n",
    "   visualize_graph(data)"
   ]
  },
  {
   "cell_type": "code",
   "execution_count": null,
   "metadata": {},
   "outputs": [],
   "source": []
  }
 ],
 "metadata": {
  "kernelspec": {
   "display_name": "calculabilite",
   "language": "python",
   "name": "python3"
  },
  "language_info": {
   "codemirror_mode": {
    "name": "ipython",
    "version": 3
   },
   "file_extension": ".py",
   "mimetype": "text/x-python",
   "name": "python",
   "nbconvert_exporter": "python",
   "pygments_lexer": "ipython3",
   "version": "3.12.0"
  }
 },
 "nbformat": 4,
 "nbformat_minor": 2
}
